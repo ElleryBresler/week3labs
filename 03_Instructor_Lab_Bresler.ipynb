{
 "cells": [
  {
   "cell_type": "markdown",
   "id": "41b53f5b-27cb-4886-81ac-0ee2ef627409",
   "metadata": {
    "editable": true,
    "slideshow": {
     "slide_type": ""
    },
    "tags": []
   },
   "source": [
    "UM MSBA - BGEN\n",
    "\n",
    "# Week 3 Instructor-Led Lab Temperature Conversion\n",
    "\n",
    "This will convert temperature for values provided in Celcius, Fahrenheit, and Kelvin.\n",
    "\n",
    "---\n",
    "\n",
    "## &#x1F321; Welcome to my temperature converter. &#x1F321;\n",
    "\n",
    "#### Create Variables"
   ]
  },
  {
   "cell_type": "code",
   "execution_count": 1,
   "id": "5c05f9b0-fabd-4b9f-9243-32fabf43fac1",
   "metadata": {
    "editable": true,
    "slideshow": {
     "slide_type": ""
    },
    "tags": []
   },
   "outputs": [],
   "source": [
    "celsius = 0.0\n",
    "fahrenheit = 0.0\n",
    "kelvin = 0.0"
   ]
  },
  {
   "cell_type": "markdown",
   "id": "1d8f1840-a5d4-4025-b743-6bb686da64ca",
   "metadata": {},
   "source": [
    "#### Get User Input "
   ]
  },
  {
   "cell_type": "code",
   "execution_count": 2,
   "id": "7fe38dbf-8cde-4ad5-8935-68b202b4203a",
   "metadata": {},
   "outputs": [
    {
     "name": "stdin",
     "output_type": "stream",
     "text": [
      "Please provide a value, in Celsuis to convert:\n",
      " -15\n"
     ]
    }
   ],
   "source": [
    "text = float(input(\"Please provide a value, in Celsuis to convert:\\n\"))"
   ]
  },
  {
   "cell_type": "code",
   "execution_count": 3,
   "id": "5836dc27-1b7f-45e6-8a07-09d8b5d188b4",
   "metadata": {},
   "outputs": [],
   "source": [
    "celsius = text "
   ]
  },
  {
   "cell_type": "markdown",
   "id": "c7737445-2bac-4fdc-90ac-94666a7660d9",
   "metadata": {},
   "source": [
    "#### Convert Celsius to Fahrenheit "
   ]
  },
  {
   "cell_type": "code",
   "execution_count": 4,
   "id": "33977acc-b6ec-4eb9-8a06-c2a1da1a5697",
   "metadata": {},
   "outputs": [],
   "source": [
    "fahrenheit = (9 / 5) * celsius + 32"
   ]
  },
  {
   "cell_type": "markdown",
   "id": "f474bcff-2489-4b31-9d5a-e4e52a21d0b7",
   "metadata": {},
   "source": [
    "#### Convert Celsius to Kelvin"
   ]
  },
  {
   "cell_type": "code",
   "execution_count": 5,
   "id": "cb6e66f5-ad4a-43da-9767-c6a82e1ef1f9",
   "metadata": {},
   "outputs": [],
   "source": [
    "kelvin = celsius + 273.15"
   ]
  },
  {
   "cell_type": "markdown",
   "id": "0dcd9ca2-b2cb-4974-8496-2afe5d40ca09",
   "metadata": {},
   "source": [
    "#### Display Conversion Results"
   ]
  },
  {
   "cell_type": "code",
   "execution_count": 6,
   "id": "c04af3d5-4bc7-46d8-afca-cb5742bd245c",
   "metadata": {},
   "outputs": [
    {
     "name": "stdout",
     "output_type": "stream",
     "text": [
      "-15.0 degrees Celsius is 5.0 degrees Fahrenheit which is 258.15 degrees Kelvin.\n"
     ]
    }
   ],
   "source": [
    "print(f\"{celsius} degrees Celsius is {fahrenheit} degrees Fahrenheit which is {kelvin} degrees Kelvin.\")"
   ]
  },
  {
   "cell_type": "markdown",
   "id": "65cd5e67-b74c-403c-9794-871be53a40cc",
   "metadata": {},
   "source": [
    "### Create Additional Variables "
   ]
  },
  {
   "cell_type": "code",
   "execution_count": 7,
   "id": "76c07cf4-f541-41f5-86d1-a31f4f08754f",
   "metadata": {},
   "outputs": [],
   "source": [
    "celsius_two = 0.0\n",
    "fahrenheit_two = 0.0 \n",
    "kelvin_two = 0.0"
   ]
  },
  {
   "cell_type": "markdown",
   "id": "ea3a48c2-1b38-46a0-9721-454f61375528",
   "metadata": {},
   "source": [
    "#### Get User Input"
   ]
  },
  {
   "cell_type": "code",
   "execution_count": 8,
   "id": "1501f513-c976-4040-8931-c71940d47637",
   "metadata": {},
   "outputs": [
    {
     "name": "stdin",
     "output_type": "stream",
     "text": [
      "Please provide a value, in Celsuis to convert:\n",
      " 25\n"
     ]
    }
   ],
   "source": [
    "text_two = float(input(\"Please provide a value, in Celsuis to convert:\\n\"))"
   ]
  },
  {
   "cell_type": "code",
   "execution_count": 9,
   "id": "19097ca6-4450-4440-9437-987f91118c3e",
   "metadata": {},
   "outputs": [],
   "source": [
    "celsius_two = text_two "
   ]
  },
  {
   "cell_type": "markdown",
   "id": "66a49066-351f-4ffb-a863-5abd0c4b11c8",
   "metadata": {},
   "source": [
    "#### Convert Celsius to Fahrenheit "
   ]
  },
  {
   "cell_type": "code",
   "execution_count": 10,
   "id": "bfabd286-bbcd-4c72-8e7a-9b02f23a8be1",
   "metadata": {},
   "outputs": [],
   "source": [
    "fahrenheit_two = (9 / 5) * celsius_two + 32"
   ]
  },
  {
   "cell_type": "markdown",
   "id": "50a7239b-42d0-4fd9-ba15-aa00b5dbff90",
   "metadata": {},
   "source": [
    "#### Convert Celsius to Kelvin"
   ]
  },
  {
   "cell_type": "code",
   "execution_count": 11,
   "id": "c693fb9c-888e-4a74-ac49-18688e870cc9",
   "metadata": {},
   "outputs": [],
   "source": [
    "kelvin_two = celsius_two + 273.15"
   ]
  },
  {
   "cell_type": "markdown",
   "id": "f971a750-5a7c-4418-916d-9940ff8897c7",
   "metadata": {},
   "source": [
    "#### Display Conversion Results"
   ]
  },
  {
   "cell_type": "code",
   "execution_count": 12,
   "id": "4747a968-2efd-49cc-baf7-a17eb7bb077d",
   "metadata": {},
   "outputs": [
    {
     "name": "stdout",
     "output_type": "stream",
     "text": [
      "25.0 degrees Celsius is 77.0 degrees Fahrenheit which is 298.15 degrees Kelvin.\n"
     ]
    }
   ],
   "source": [
    "print(f\"{celsius_two} degrees Celsius is {fahrenheit_two} degrees Fahrenheit which is {kelvin_two} degrees Kelvin.\")"
   ]
  },
  {
   "cell_type": "markdown",
   "id": "bafb6cab-e2bb-4d49-9e97-cf56c1f16f4e",
   "metadata": {},
   "source": [
    "### Comparison of Temperatures \n",
    "\n",
    "#### Celsius "
   ]
  },
  {
   "cell_type": "code",
   "execution_count": 13,
   "id": "b3807bb2-4662-470a-a90d-cdaf22a17600",
   "metadata": {},
   "outputs": [
    {
     "name": "stdout",
     "output_type": "stream",
     "text": [
      "The original Celsius value of -15.0 is smaller than the new value of 25.0.\n"
     ]
    }
   ],
   "source": [
    "if celsius > celsius_two:\n",
    "    print(f\"The original Celsius value of {celsius} is larger than the new value of {celsius_two}.\")\n",
    "elif celsius < celsius_two:\n",
    "     print(f\"The original Celsius value of {celsius} is smaller than the new value of {celsius_two}.\")\n",
    "elif celsius == celsius_two:\n",
    "    print (f\"The original Celsius value of {celsius} equals the new value of {celsius_two}.\")"
   ]
  },
  {
   "cell_type": "markdown",
   "id": "72d099a4-59c0-4cb1-ae77-000667390c01",
   "metadata": {},
   "source": [
    "#### Fahrenheit"
   ]
  },
  {
   "cell_type": "code",
   "execution_count": 15,
   "id": "1de82a00-82c3-4798-9219-e12a4a1c0012",
   "metadata": {},
   "outputs": [
    {
     "name": "stdout",
     "output_type": "stream",
     "text": [
      "The original Fahrenheit value of 5.0 is smaller than the new value of 77.0.\n"
     ]
    }
   ],
   "source": [
    "if fahrenheit >= fahrenheit_two:\n",
    "    print(f\"The original Fahrenheit value of {fahrenheit} is greater than or equal to the new value of {fahrenheit_two}.\")\n",
    "elif fahrenheit < fahrenheit_two:\n",
    "    print(f\"The original Fahrenheit value of {fahrenheit} is smaller than the new value of {fahrenheit_two}.\")\n",
    "elif fahrenheit == fahrenheit_two:\n",
    "    print(f\"The original Fahrenheit value of {fahrenheit} is equal to {fahrenheit_two}.\")\n"
   ]
  },
  {
   "cell_type": "markdown",
   "id": "900cef18-5113-4bfe-ac4a-415519cfc53e",
   "metadata": {},
   "source": [
    "#### Kelvin"
   ]
  },
  {
   "cell_type": "code",
   "execution_count": 17,
   "id": "ae0efae8-3e8f-4d04-89e1-3857ccaa1c9c",
   "metadata": {},
   "outputs": [
    {
     "name": "stdout",
     "output_type": "stream",
     "text": [
      "The original Kelvin value of 258.15 is less than or equal to the new value of 298.15.\n"
     ]
    }
   ],
   "source": [
    "if kelvin <= kelvin_two:\n",
    "    print(f\"The original Kelvin value of {kelvin} is less than or equal to the new value of {kelvin_two}.\")\n",
    "elif kelvin < kelvin_two:\n",
    "    print(f\"The original Kelvin value of {kelvin} is smaller than the new value of {kelvin_two}.\")\n",
    "elif kelvin != kelvin_two:\n",
    "    print(f\"The original Kelvin value of {kelvin} is not equal to the new value of {kelvin_two}.\")\n"
   ]
  },
  {
   "cell_type": "markdown",
   "id": "ccbf67db-3018-420e-85d2-2009e1c70fee",
   "metadata": {},
   "source": [
    "### Logical Operators \n",
    "\n",
    "#### Celsius and Fahrenheit \"and\" Logical Operator "
   ]
  },
  {
   "cell_type": "code",
   "execution_count": 31,
   "id": "dccf29a6-aebb-4232-8abe-793875c2f177",
   "metadata": {},
   "outputs": [
    {
     "name": "stdout",
     "output_type": "stream",
     "text": [
      "Please provide a value, in Celsius, to convert:\n",
      "-15.0\n",
      "-15.0 degrees Celsius is 5.0 degrees Fahrenheit which is 258.15 degrees Kelvin.\n",
      "\n",
      "Please provide another value, in Celsius, to convert:\n",
      "25.0\n",
      "Second set of values:25.0 degrees Celsius is 77.0 degrees Fahrenheit which is 298.15 degrees Kelvin.\n",
      "\n",
      "The original Celsius value of -15.0 is smaller than the new value of 25.0.\n",
      "The original Fahrenheit value of 5.0 is smaller than the new value of 77.0.\n",
      "The original Kelvin value of 258.15 is less than or equal to the new value of 298.15.\n",
      "\n",
      "Python Lies.\n"
     ]
    }
   ],
   "source": [
    "print(f\"Please provide a value, in Celsius, to convert:\")\n",
    "print(text)\n",
    "print(f\"{celsius} degrees Celsius is {fahrenheit} degrees Fahrenheit which is {kelvin} degrees Kelvin.\\n\")\n",
    "\n",
    "print(f\"Please provide another value, in Celsius, to convert:\")\n",
    "print(text_two)\n",
    "print(f\"Second set of values:{celsius_two} degrees Celsius is {fahrenheit_two} degrees Fahrenheit which is {kelvin_two} degrees Kelvin.\\n\")\n",
    "\n",
    "if celsius > celsius_two:\n",
    "    print(f\"The original Celsius value of {celsius} is larger than the new value of {celsius_two}.\")\n",
    "elif celsius < celsius_two:\n",
    "     print(f\"The original Celsius value of {celsius} is smaller than the new value of {celsius_two}.\")\n",
    "elif celsius == celsius_two:\n",
    "    print (f\"The original Celsius value of {celsius} equals the new value of {celsius_two}.\")\n",
    "    \n",
    "if fahrenheit >= fahrenheit_two:\n",
    "    print(f\"The original Fahrenheit value of {fahrenheit} is greater than or equal to the new value of {fahrenheit_two}.\")\n",
    "elif fahrenheit < fahrenheit_two:\n",
    "    print(f\"The original Fahrenheit value of {fahrenheit} is smaller than the new value of {fahrenheit_two}.\")\n",
    "elif fahrenheit == fahrenheit_two:\n",
    "    print(f\"The original Fahrenheit value of {fahrenheit} is equal to {fahrenheit_two}.\")\n",
    "\n",
    "if kelvin <= kelvin_two:\n",
    "    print(f\"The original Kelvin value of {kelvin} is less than or equal to the new value of {kelvin_two}.\\n\")\n",
    "elif kelvin < kelvin_two:\n",
    "    print(f\"The original Kelvin value of {kelvin} is smaller than the new value of {kelvin_two}.\\n\")\n",
    "elif kelvin != kelvin_two:\n",
    "    print(f\"The original Kelvin value of {kelvin} is not equal to the new value of {kelvin_two}.\\n\")\n",
    "    \n",
    "if celsius > celsius_two and fahrenheit < fahrenheit_two:\n",
    "    print(f\"Python speaks the truth!\")\n",
    "else:\n",
    "    print(f\"Python Lies.\")"
   ]
  },
  {
   "cell_type": "markdown",
   "id": "9ae6bf74-531c-4b28-8abf-4b0f1ee8a662",
   "metadata": {},
   "source": [
    "#### Celsius and Kelvin \"or\" Logical Operator"
   ]
  },
  {
   "cell_type": "code",
   "execution_count": 32,
   "id": "8af4f6c7-ac5f-4f73-b040-b3210ea55466",
   "metadata": {},
   "outputs": [
    {
     "name": "stdout",
     "output_type": "stream",
     "text": [
      "Please provide a value, in Celsius, to convert:\n",
      "-15.0\n",
      "-15.0 degrees Celsius is 5.0 degrees Fahrenheit which is 258.15 degrees Kelvin.\n",
      "\n",
      "Please provide another value, in Celsius, to convert:\n",
      "25.0\n",
      "Second set of values:25.0 degrees Celsius is 77.0 degrees Fahrenheit which is 298.15 degrees Kelvin.\n",
      "\n",
      "The original Celsius value of -15.0 is smaller than the new value of 25.0.\n",
      "The original Fahrenheit value of 5.0 is smaller than the new value of 77.0.\n",
      "The original Kelvin value of 258.15 is less than or equal to the new value of 298.15.\n",
      "\n",
      "Python speaks the truth!\n"
     ]
    }
   ],
   "source": [
    "print(f\"Please provide a value, in Celsius, to convert:\")\n",
    "print(text)\n",
    "print(f\"{celsius} degrees Celsius is {fahrenheit} degrees Fahrenheit which is {kelvin} degrees Kelvin.\\n\")\n",
    "\n",
    "print(f\"Please provide another value, in Celsius, to convert:\")\n",
    "print(text_two)\n",
    "print(f\"Second set of values:{celsius_two} degrees Celsius is {fahrenheit_two} degrees Fahrenheit which is {kelvin_two} degrees Kelvin.\\n\")\n",
    "\n",
    "if celsius > celsius_two:\n",
    "    print(f\"The original Celsius value of {celsius} is larger than the new value of {celsius_two}.\")\n",
    "elif celsius < celsius_two:\n",
    "     print(f\"The original Celsius value of {celsius} is smaller than the new value of {celsius_two}.\")\n",
    "elif celsius == celsius_two:\n",
    "    print (f\"The original Celsius value of {celsius} equals the new value of {celsius_two}.\")\n",
    "    \n",
    "if fahrenheit >= fahrenheit_two:\n",
    "    print(f\"The original Fahrenheit value of {fahrenheit} is greater than or equal to the new value of {fahrenheit_two}.\")\n",
    "elif fahrenheit < fahrenheit_two:\n",
    "    print(f\"The original Fahrenheit value of {fahrenheit} is smaller than the new value of {fahrenheit_two}.\")\n",
    "elif fahrenheit == fahrenheit_two:\n",
    "    print(f\"The original Fahrenheit value of {fahrenheit} is equal to {fahrenheit_two}.\")\n",
    "\n",
    "if kelvin <= kelvin_two:\n",
    "    print(f\"The original Kelvin value of {kelvin} is less than or equal to the new value of {kelvin_two}.\\n\")\n",
    "elif kelvin < kelvin_two:\n",
    "    print(f\"The original Kelvin value of {kelvin} is smaller than the new value of {kelvin_two}.\\n\")\n",
    "elif kelvin != kelvin_two:\n",
    "    print(f\"The original Kelvin value of {kelvin} is not equal to the new value of {kelvin_two}.\\n\")\n",
    "    \n",
    "if celsius < celsius_two or fahrenheit > fahrenheit_two:\n",
    "    print(f\"Python speaks the truth!\")\n",
    "else:\n",
    "    print(f\"Python Lies.\")"
   ]
  },
  {
   "cell_type": "code",
   "execution_count": null,
   "id": "8f24f001-4840-467e-83b9-eeffc64a5e14",
   "metadata": {},
   "outputs": [],
   "source": []
  }
 ],
 "metadata": {
  "kernelspec": {
   "display_name": "Python 3 (ipykernel)",
   "language": "python",
   "name": "python3"
  },
  "language_info": {
   "codemirror_mode": {
    "name": "ipython",
    "version": 3
   },
   "file_extension": ".py",
   "mimetype": "text/x-python",
   "name": "python",
   "nbconvert_exporter": "python",
   "pygments_lexer": "ipython3",
   "version": "3.13.2"
  }
 },
 "nbformat": 4,
 "nbformat_minor": 5
}
