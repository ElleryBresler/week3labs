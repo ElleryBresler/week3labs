{
 "cells": [
  {
   "cell_type": "markdown",
   "id": "b4dbb52e-4c9e-40b8-9e53-ce88a0e2e6c4",
   "metadata": {},
   "source": [
    "UM MSBA - BGEN\n",
    "\n",
    "# Week 3 Independent-Led Lab Self-Service Kiosk Logic \n",
    "\n",
    "The chosen kiosk is for a food court. \n",
    "\n",
    "Link to ChatGPT log: https://chatgpt.com/share/67d8aded-0528-8010-83fe-d1cce1bd4b5a\n",
    "\n",
    "#### Product Variables  "
   ]
  },
  {
   "cell_type": "code",
   "execution_count": 1,
   "id": "f7db25bc-5893-43fa-8ae3-f56aa3730a82",
   "metadata": {},
   "outputs": [],
   "source": [
    "product_1 = \"Pizza Slice\"\n",
    "product_2 = \"Fries\"\n",
    "product_3 = \"Hamburger\"\n",
    "product_4 = \"Nachos\"\n",
    "product_5 = \"Candy\"\n",
    "\n",
    "price_1 = 5.00\n",
    "price_2 = 3.00\n",
    "price_3 = 5.00\n",
    "price_4 = 4.00\n",
    "price_5 = 1.50\n"
   ]
  },
  {
   "cell_type": "markdown",
   "id": "25518b70-3a3a-450b-8c19-d3937241c86a",
   "metadata": {},
   "source": [
    "#### Welcome and User Input "
   ]
  },
  {
   "cell_type": "code",
   "execution_count": 3,
   "id": "d3d613fe-db29-4e53-9cc8-9a6cc0de79b5",
   "metadata": {},
   "outputs": [
    {
     "name": "stdout",
     "output_type": "stream",
     "text": [
      "Welcome to the food court.\n",
      "Please place your order by entering in the product and quantity below.\n",
      "\n",
      "Here are your choices:\n",
      "\n",
      "|   | \tProduct\t\t| Price |\n",
      "| 1 | Pizza Slice\t| $5.00\t|\n",
      "| 2 | Fries\t\t| $3.00\t|\n",
      "| 3 | Hamburger\t\t| $5.00\t|\n",
      "| 4 | Nachos\t\t| $4.00\t|\n",
      "| 5 | Candy\t\t| $1.50\t|\n",
      "\n",
      "\n"
     ]
    },
    {
     "name": "stdin",
     "output_type": "stream",
     "text": [
      "What would you like to order? (enter 'end' to stop 1\n",
      "How many would you like to order?  50\n",
      "What would you like to order? (enter 'end' to stop 3\n",
      "How many would you like to order?  1\n",
      "What would you like to order? (enter 'end' to stop end\n"
     ]
    },
    {
     "name": "stdout",
     "output_type": "stream",
     "text": [
      "\n",
      "Here is the summary of your final order:\n",
      "Pizza Slice x50 - $250.00\n",
      "Hamburger x1 - $5.00\n",
      "\n",
      "Total cost: $255.00\n"
     ]
    }
   ],
   "source": [
    "#getting the menu to display\n",
    "print(f\"Welcome to the food court.\")\n",
    "print(f\"Please place your order by entering in the product and quantity below.\\n\")\n",
    "\n",
    "print(f\"Here are your choices:\\n\")\n",
    "\n",
    "print(f\"|   | \\tProduct\\t\\t| Price |\")\n",
    "print(f\"| 1 | {product_1}\\t| ${price_1:.2f}\\t|\")\n",
    "print(f\"| 2 | {product_2}\\t\\t| ${price_2:.2f}\\t|\")\n",
    "print(f\"| 3 | {product_3}\\t\\t| ${price_3:.2f}\\t|\")\n",
    "print(f\"| 4 | {product_4}\\t\\t| ${price_4:.2f}\\t|\")\n",
    "print(f\"| 5 | {product_5}\\t\\t| ${price_5:.2f}\\t|\\n\\n\")\n",
    "\n",
    "\n",
    "total_cost = 0\n",
    "order_summary = []\n",
    "\n",
    "# Loop until the user types 'end'\n",
    "while True:\n",
    "    # Ask for the product selection\n",
    "    choice = input(\"What would you like to order? (enter 'end' to stop\")\n",
    "\n",
    "    if choice == \"end\":\n",
    "        break  \n",
    "        \n",
    "    if choice == \"1\":\n",
    "        quantity = int(input(\"How many would you like to order? \"))\n",
    "        total_cost += price_1 * quantity\n",
    "        order_summary.append(f\"{product_1} x{quantity} - ${price_1 * quantity:.2f}\")\n",
    "    elif choice == \"2\":\n",
    "        quantity = int(input(\"How many would you like to order? \"))\n",
    "        total_cost += price_2 * quantity\n",
    "        order_summary.append(f\"{product_2} x{quantity} - ${price_2 * quantity:.2f}\")\n",
    "    elif choice == \"3\":\n",
    "        quantity = int(input(\"How many would you like to order? \"))\n",
    "        total_cost += price_3 * quantity\n",
    "        order_summary.append(f\"{product_3} x{quantity} - ${price_3 * quantity:.2f}\")\n",
    "    elif choice == \"4\":\n",
    "        quantity = int(input(\"How many would you like to order? \"))\n",
    "        total_cost += price_4 * quantity\n",
    "        order_summary.append(f\"{product_4} x{quantity} - ${price_4 * quantity:.2f}\")\n",
    "    elif choice == \"5\":\n",
    "        quantity = int(input(\"How many would you like to order? \"))\n",
    "        total_cost += price_5 * quantity\n",
    "        order_summary.append(f\"{product_5} x{quantity} - ${price_5 * quantity:.2f}\")\n",
    "    else:\n",
    "        print(\"Invalid choice. Please try again.\")\n",
    "\n",
    "print(f\"\\nHere is the summary of your final order:\\n\")\n",
    "for item in order_summary:\n",
    "    print(f\"{item}\")\n",
    "print(f\"\\nTotal cost: ${total_cost:.2f}\")"
   ]
  },
  {
   "cell_type": "code",
   "execution_count": null,
   "id": "bdd29c7e-29d3-415b-af47-6f992e407ffb",
   "metadata": {},
   "outputs": [],
   "source": []
  }
 ],
 "metadata": {
  "kernelspec": {
   "display_name": "Python 3 (ipykernel)",
   "language": "python",
   "name": "python3"
  },
  "language_info": {
   "codemirror_mode": {
    "name": "ipython",
    "version": 3
   },
   "file_extension": ".py",
   "mimetype": "text/x-python",
   "name": "python",
   "nbconvert_exporter": "python",
   "pygments_lexer": "ipython3",
   "version": "3.13.2"
  }
 },
 "nbformat": 4,
 "nbformat_minor": 5
}
